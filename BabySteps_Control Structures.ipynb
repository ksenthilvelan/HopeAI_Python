{
 "cells": [
  {
   "cell_type": "code",
   "execution_count": 1,
   "metadata": {},
   "outputs": [
    {
     "name": "stdout",
     "output_type": "stream",
     "text": [
      "Welcome to Assignment-1\n"
     ]
    }
   ],
   "source": [
    "print(\"Welcome to Assignment-1\")"
   ]
  },
  {
   "cell_type": "code",
   "execution_count": 11,
   "metadata": {},
   "outputs": [
    {
     "name": "stdout",
     "output_type": "stream",
     "text": [
      "Num1=  10\n",
      "Num2=  30\n",
      "Add=  40\n"
     ]
    }
   ],
   "source": [
    "Num1 = 10\n",
    "print(\"Num1= \",Num1)\n",
    "Num2 = 30\n",
    "print(\"Num2= \",Num2)\n",
    "Add = Num1 + Num2\n",
    "print(\"Add= \",Add)"
   ]
  },
  {
   "cell_type": "code",
   "execution_count": 41,
   "metadata": {},
   "outputs": [
    {
     "name": "stdout",
     "output_type": "stream",
     "text": [
      "Enter the BMI Index: 34\n",
      "Very Overweight\n"
     ]
    }
   ],
   "source": [
    "# Body Mass Index\n",
    "# Underweight < 18.5\n",
    "# Normal = 18.5 to 24.9\n",
    "# Overweight = 25 to 29.9\n",
    "# Obeseity = >= 30\n",
    "# Obeseity_class_1 = 30 to 35\n",
    "# Obeseity_class_2 = 35 to 40\n",
    "# Obeseity_class_3 = > 40\n",
    "weight=34\n",
    "print(\"Enter the BMI Index:\",weight)\n",
    "if(weight<18.5):\n",
    "    print(\"Under weight\")\n",
    "elif(weight<25):\n",
    "        print(\"Normal\")\n",
    "elif(weight<30):\n",
    "    print(\"Over weight\")\n",
    "else:\n",
    "    print(\"Very Overweight\")\n"
   ]
  }
 ],
 "metadata": {
  "kernelspec": {
   "display_name": "Python 3",
   "language": "python",
   "name": "python3"
  },
  "language_info": {
   "codemirror_mode": {
    "name": "ipython",
    "version": 3
   },
   "file_extension": ".py",
   "mimetype": "text/x-python",
   "name": "python",
   "nbconvert_exporter": "python",
   "pygments_lexer": "ipython3",
   "version": "3.7.4"
  }
 },
 "nbformat": 4,
 "nbformat_minor": 2
}

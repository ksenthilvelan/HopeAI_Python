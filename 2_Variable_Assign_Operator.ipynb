{
 "cells": [
  {
   "cell_type": "code",
   "execution_count": 1,
   "metadata": {},
   "outputs": [],
   "source": [
    "num=10"
   ]
  },
  {
   "cell_type": "code",
   "execution_count": 2,
   "metadata": {},
   "outputs": [
    {
     "name": "stdout",
     "output_type": "stream",
     "text": [
      "50\n"
     ]
    }
   ],
   "source": [
    "num1=20\n",
    "num2=30\n",
    "add=num1+num2\n",
    "print(add)\n"
   ]
  },
  {
   "cell_type": "code",
   "execution_count": 8,
   "metadata": {},
   "outputs": [
    {
     "name": "stdout",
     "output_type": "stream",
     "text": [
      "The addition of Two Numbers\n",
      "The Num1 :  10\n",
      "The Num2 :  20\n",
      "The Answer is  30\n"
     ]
    }
   ],
   "source": [
    "Num1=10\n",
    "Num2=20\n",
    "Add=Num1+Num2\n",
    "print(\"The addition of Two Numbers\")\n",
    "print(\"The Num1 : \",Num1)\n",
    "print(\"The Num2 : \",Num2)\n",
    "print(\"The Answer is \",Add)"
   ]
  },
  {
   "cell_type": "code",
   "execution_count": 10,
   "metadata": {},
   "outputs": [
    {
     "name": "stdout",
     "output_type": "stream",
     "text": [
      "Enter the Number1 : 13\n",
      "Enter the Number2 : 14\n",
      "1314\n"
     ]
    }
   ],
   "source": [
    "Num1=input(\"Enter the Number1 : \")\n",
    "Num2=input(\"Enter the Number2 : \")\n",
    "Add=Num1+Num2\n",
    "print(Add)"
   ]
  },
  {
   "cell_type": "code",
   "execution_count": 12,
   "metadata": {},
   "outputs": [
    {
     "name": "stdout",
     "output_type": "stream",
     "text": [
      "Enter the Number1 : 13\n",
      "Enter the Number2 : 14\n",
      "27\n"
     ]
    }
   ],
   "source": [
    "Num1=int(input(\"Enter the Number1 : \"))    \n",
    "Num2=int(input(\"Enter the Number2 : \"))\n",
    "Add=Num1+Num2\n",
    "print(Add)"
   ]
  },
  {
   "cell_type": "code",
   "execution_count": null,
   "metadata": {},
   "outputs": [],
   "source": []
  }
 ],
 "metadata": {
  "kernelspec": {
   "display_name": "Python 3",
   "language": "python",
   "name": "python3"
  },
  "language_info": {
   "codemirror_mode": {
    "name": "ipython",
    "version": 3
   },
   "file_extension": ".py",
   "mimetype": "text/x-python",
   "name": "python",
   "nbconvert_exporter": "python",
   "pygments_lexer": "ipython3",
   "version": "3.7.4"
  }
 },
 "nbformat": 4,
 "nbformat_minor": 2
}

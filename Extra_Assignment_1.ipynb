{
 "cells": [
  {
   "cell_type": "code",
   "execution_count": 2,
   "metadata": {},
   "outputs": [
    {
     "name": "stdout",
     "output_type": "stream",
     "text": [
      "HOPE AI\n"
     ]
    }
   ],
   "source": [
    "#print Statements\n",
    "\n",
    "print(\"HOPE AI\")"
   ]
  },
  {
   "cell_type": "code",
   "execution_count": 6,
   "metadata": {},
   "outputs": [
    {
     "name": "stdout",
     "output_type": "stream",
     "text": [
      "Enter your institute name? : HOPE AI\n"
     ]
    }
   ],
   "source": [
    "#Buy Inputs\n",
    "\n",
    "Institute_Name=input(\"Enter your institute name? : \")"
   ]
  },
  {
   "cell_type": "code",
   "execution_count": 9,
   "metadata": {},
   "outputs": [
    {
     "name": "stdout",
     "output_type": "stream",
     "text": [
      "Enter your name : Raj\n",
      "Enter your age : 15\n",
      "Enter your School Name : Guru School\n",
      "Enter your Degree : B.E CSE\n"
     ]
    }
   ],
   "source": [
    "#Buy Inputs\n",
    "\n",
    "Name=input(\"Enter your name : \")\n",
    "Age=input(\"Enter your age : \")\n",
    "School_Name=input(\"Enter your School Name : \")\n",
    "Degree=input(\"Enter your Degree : \")"
   ]
  },
  {
   "cell_type": "code",
   "execution_count": 15,
   "metadata": {},
   "outputs": [
    {
     "name": "stdout",
     "output_type": "stream",
     "text": [
      "a=  43\n",
      "b=  34\n",
      "add =  77\n"
     ]
    }
   ],
   "source": [
    "# Addition\n",
    "\n",
    "A = 43\n",
    "print(\"a= \",A)\n",
    "B = 34\n",
    "print(\"b= \",B)\n",
    "Add = A + B\n",
    "print(\"add = \",Add)"
   ]
  },
  {
   "cell_type": "code",
   "execution_count": 16,
   "metadata": {},
   "outputs": [
    {
     "name": "stdout",
     "output_type": "stream",
     "text": [
      "a=  43\n",
      "b=  34\n",
      "sub =  9\n"
     ]
    }
   ],
   "source": [
    "# Subtraction\n",
    "\n",
    "A = 43\n",
    "print(\"a= \",A)\n",
    "B = 34\n",
    "print(\"b= \",B)\n",
    "Sub = A - B\n",
    "print(\"sub = \",Sub)\n"
   ]
  },
  {
   "cell_type": "code",
   "execution_count": 18,
   "metadata": {},
   "outputs": [
    {
     "name": "stdout",
     "output_type": "stream",
     "text": [
      "a=  63\n",
      "b=  97\n",
      "Mul =  6111\n"
     ]
    }
   ],
   "source": [
    "# Multiplication\n",
    "\n",
    "A = 63\n",
    "print(\"a= \",A)\n",
    "B = 97\n",
    "print(\"b= \",B)\n",
    "Mul = A * B\n",
    "print(\"Mul = \",Mul)"
   ]
  },
  {
   "cell_type": "code",
   "execution_count": 20,
   "metadata": {},
   "outputs": [
    {
     "name": "stdout",
     "output_type": "stream",
     "text": [
      "a=  76\n",
      "b=  31\n",
      "Float Div =  2.4516129032258065\n"
     ]
    }
   ],
   "source": [
    "# Division\n",
    "\n",
    "A = 76\n",
    "print(\"a= \",A)\n",
    "B = 31\n",
    "print(\"b= \",B)\n",
    "Div = float(A / B)\n",
    "print(\"Float Div = \",Div)"
   ]
  },
  {
   "cell_type": "code",
   "execution_count": 24,
   "metadata": {},
   "outputs": [
    {
     "name": "stdout",
     "output_type": "stream",
     "text": [
      "a=  76\n",
      "b=  31\n",
      "Floor Div =  2\n"
     ]
    }
   ],
   "source": [
    "# Floor Division\n",
    "\n",
    "A = 76\n",
    "print(\"a= \",A)\n",
    "B = 31\n",
    "print(\"b= \",B)\n",
    "Div = A // B\n",
    "print(\"Floor Div = \",Div)"
   ]
  },
  {
   "cell_type": "code",
   "execution_count": 27,
   "metadata": {},
   "outputs": [
    {
     "name": "stdout",
     "output_type": "stream",
     "text": [
      "a=  76\n",
      "b=  31\n",
      "Modulo =  14\n"
     ]
    }
   ],
   "source": [
    "# Modulo\n",
    "\n",
    "A = 76\n",
    "print(\"a= \",A)\n",
    "B = 31\n",
    "print(\"b= \",B)\n",
    "Mod = A % B\n",
    "print(\"Modulo = \",Mod)"
   ]
  },
  {
   "cell_type": "code",
   "execution_count": 28,
   "metadata": {},
   "outputs": [
    {
     "name": "stdout",
     "output_type": "stream",
     "text": [
      "a=  4\n",
      "b=  4\n",
      "Power of =  256\n"
     ]
    }
   ],
   "source": [
    "# Power\n",
    "\n",
    "A = 4\n",
    "print(\"a= \",A)\n",
    "B = 4\n",
    "print(\"b= \",B)\n",
    "C = pow(A,B)\n",
    "print(\"Power of = \",C)"
   ]
  }
 ],
 "metadata": {
  "kernelspec": {
   "display_name": "Python 3",
   "language": "python",
   "name": "python3"
  },
  "language_info": {
   "codemirror_mode": {
    "name": "ipython",
    "version": 3
   },
   "file_extension": ".py",
   "mimetype": "text/x-python",
   "name": "python",
   "nbconvert_exporter": "python",
   "pygments_lexer": "ipython3",
   "version": "3.7.4"
  }
 },
 "nbformat": 4,
 "nbformat_minor": 2
}

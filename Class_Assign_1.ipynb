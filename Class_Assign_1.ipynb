{
 "cells": [
  {
   "cell_type": "code",
   "execution_count": 12,
   "metadata": {},
   "outputs": [],
   "source": [
    "# Create a function and list out the items in the list\n",
    "\n",
    "class SubfieldsinAI():\n",
    "    \n",
    "    def Subfields():\n",
    "        AI_Subfields=[\"Machine Learning\",\"Neural Networks\",\"Vision\",\"Robotics\",\"Speech Processing\",\"Natural Language Processing\"]\n",
    "        print(\"Sub-fields in AI are : \")\n",
    "        for Sub_AI in AI_Subfields:\n",
    "            print(Sub_AI)"
   ]
  },
  {
   "cell_type": "code",
   "execution_count": 13,
   "metadata": {},
   "outputs": [
    {
     "name": "stdout",
     "output_type": "stream",
     "text": [
      "Sub-fields in AI are : \n",
      "Machine Learning\n",
      "Neural Networks\n",
      "Vision\n",
      "Robotics\n",
      "Speech Processing\n",
      "Natural Language Processing\n"
     ]
    }
   ],
   "source": [
    "SubfieldsinAI.Subfields()"
   ]
  },
  {
   "cell_type": "code",
   "execution_count": 18,
   "metadata": {},
   "outputs": [],
   "source": [
    "# Create a function that checks whether the given number is Odd or Even\n",
    "\n",
    "class OddEven():\n",
    "    \n",
    "    def OddEven():\n",
    "        num=int(input(\"Enter a Number : \"))\n",
    "        if (num%2 != 0):\n",
    "            msg=print(num,\" is Odd Number\")\n",
    "        else:\n",
    "            msg=print(num,\" is Even Number\")\n",
    "        return msg"
   ]
  },
  {
   "cell_type": "code",
   "execution_count": 19,
   "metadata": {},
   "outputs": [
    {
     "name": "stdout",
     "output_type": "stream",
     "text": [
      "Enter a Number : 52452\n",
      "52452  is Even Number\n"
     ]
    }
   ],
   "source": [
    "OddEven.OddEven()"
   ]
  },
  {
   "cell_type": "code",
   "execution_count": 24,
   "metadata": {},
   "outputs": [],
   "source": [
    "# Create a Class and function that tells elegibility of marriage for male and female \n",
    "# according to their age limit 21 for male and 18 for female\n",
    "\n",
    "# Gender=int(input(\"Your Gender : \"))\n",
    "# Age=int(input(\"Your Age : \"))\n",
    "\n",
    "class EligibilityForMarriage():\n",
    "    \n",
    "    def Eligible():\n",
    "        Gender=input(\"Your Gender : \")\n",
    "        Age=int(input(\"Your Age : \"))\n",
    "        if (Gender==\"Male\" and Age>21):\n",
    "            msg=print(\"ELIGIBLE\")\n",
    "        elif(Gender==\"Female\" and Age>18):\n",
    "            msg=print(\"ELIGIBLE\")\n",
    "        else:\n",
    "            msg=print(\"NOT ELIGIBLE\")\n",
    "        return msg"
   ]
  },
  {
   "cell_type": "code",
   "execution_count": 25,
   "metadata": {},
   "outputs": [
    {
     "name": "stdout",
     "output_type": "stream",
     "text": [
      "Your Gender : Male\n",
      "Your Age : 20\n",
      "NOT ELIGIBLE\n"
     ]
    }
   ],
   "source": [
    "EligibilityForMarriage.Eligible()"
   ]
  },
  {
   "cell_type": "code",
   "execution_count": 49,
   "metadata": {},
   "outputs": [],
   "source": [
    "# calculate the percentage of your 10th mark using class & functions\n",
    "\n",
    "import decimal\n",
    "from decimal import Decimal\n",
    "\n",
    "class FindPercent():\n",
    "\n",
    "    def Percentage():\n",
    "        subjects=[\"Subject1\",\"Subject2\",\"Subject3\",\"Subject4\",\"Subject5\"]\n",
    "        marks=[98,87,95,95,93]\n",
    "        \n",
    "        # zip() used to pair each elements between subject and marks\n",
    "        for subjects,marks in zip(subjects,marks):\n",
    "            print(subjects,\"=\",marks)\n",
    "\n",
    "        # Now marks values changed, duplicating marks as array/list \n",
    "        marks1=[98,87,95,95,93]\n",
    "        total=0\n",
    "        for ele in range(0,len(marks1)):\n",
    "            total = total + marks1[ele]\n",
    "        print(\"Total : \",total)\n",
    "        percentage = total/len(marks1)\n",
    "        #print(percentage)\n",
    "        \n",
    "        # from decimal class importing  Decimal function\n",
    "        percentage_decimal = decimal.Decimal(percentage)\n",
    "        print(\"Percentage : \",percentage_decimal.quantize(Decimal(\"1.0000000000000\")))"
   ]
  },
  {
   "cell_type": "code",
   "execution_count": 50,
   "metadata": {},
   "outputs": [
    {
     "name": "stdout",
     "output_type": "stream",
     "text": [
      "Subject1 = 98\n",
      "Subject2 = 87\n",
      "Subject3 = 95\n",
      "Subject4 = 95\n",
      "Subject5 = 93\n",
      "Total :  468\n",
      "Percentage :  93.6000000000000\n"
     ]
    }
   ],
   "source": [
    "FindPercent.Percentage()"
   ]
  },
  {
   "cell_type": "code",
   "execution_count": 52,
   "metadata": {},
   "outputs": [],
   "source": [
    "# print area and perimeter of triangle using class & functions\n",
    "\n",
    "class Triangle():\n",
    "    \n",
    "    def AreaTriangle():\n",
    "        Height=int(input(\"Height : \"))\n",
    "        Breadth=int(input(\"Breadth : \"))\n",
    "        Area_of_Triangle=(Height*Breadth)/2\n",
    "        print(\"Area of Triangle formula : (Height*Breadth)/2\")\n",
    "        print(\"Area of Triangle : \", Area_of_Triangle)\n",
    "\n",
    "    def PerimeterTriangle():\n",
    "        Height1=int(input(\"Height1 : \"))\n",
    "        Height2=int(input(\"Height2 : \"))\n",
    "        Breadth=int(input(\"Breadth : \"))\n",
    "        Perimeter_of_Triangle = Height1+Height2+Breadth\n",
    "        print(\"Perimeter of Triangle : Height1+Height2+Breadth\")\n",
    "        print(\"Perimeter of Triangle : \",Perimeter_of_Triangle)\n",
    "\n"
   ]
  },
  {
   "cell_type": "code",
   "execution_count": 53,
   "metadata": {},
   "outputs": [
    {
     "name": "stdout",
     "output_type": "stream",
     "text": [
      "Height : 32\n",
      "Breadth : 34\n",
      "Area of Triangle formula : (Height*Breadth)/2\n",
      "Area of Triangle :  544.0\n",
      "Height1 : 2\n",
      "Height2 : 4\n",
      "Breadth : 4\n",
      "Perimeter of Triangle : Height1+Height2+Breadth\n",
      "Perimeter of Triangle :  10\n"
     ]
    }
   ],
   "source": [
    "Triangle.AreaTriangle()\n",
    "Triangle.PerimeterTriangle()"
   ]
  }
 ],
 "metadata": {
  "kernelspec": {
   "display_name": "Python 3",
   "language": "python",
   "name": "python3"
  },
  "language_info": {
   "codemirror_mode": {
    "name": "ipython",
    "version": 3
   },
   "file_extension": ".py",
   "mimetype": "text/x-python",
   "name": "python",
   "nbconvert_exporter": "python",
   "pygments_lexer": "ipython3",
   "version": "3.7.4"
  }
 },
 "nbformat": 4,
 "nbformat_minor": 2
}

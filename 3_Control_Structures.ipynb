{
 "cells": [
  {
   "cell_type": "code",
   "execution_count": 6,
   "metadata": {},
   "outputs": [
    {
     "name": "stdout",
     "output_type": "stream",
     "text": [
      "Adult\n"
     ]
    }
   ],
   "source": [
    "if(18==18):\n",
    "    print(\"Adult\")\n",
    "else:\n",
    "    print(\"Not a adult\")"
   ]
  },
  {
   "cell_type": "code",
   "execution_count": 7,
   "metadata": {},
   "outputs": [
    {
     "name": "stdout",
     "output_type": "stream",
     "text": [
      "Enter the age17\n",
      "Not a Adult\n"
     ]
    }
   ],
   "source": [
    "age=int(input(\"Enter the age\"))\n",
    "if(age==18):\n",
    "    print(\"Adult\")\n",
    "else:\n",
    "    print(\"Not a Adult\")\n",
    "    "
   ]
  },
  {
   "cell_type": "code",
   "execution_count": 10,
   "metadata": {},
   "outputs": [
    {
     "name": "stdout",
     "output_type": "stream",
     "text": [
      "Enter the age67\n",
      "Senior Citizen\n"
     ]
    }
   ],
   "source": [
    "#if-elif\n",
    "age=int(input(\"Enter the age\"))\n",
    "if(age<18):\n",
    "    print(\"children\")\n",
    "elif(age<35):\n",
    "    print(\"Adult\")\n",
    "elif(age<59):\n",
    "    print(\"Citizen\")\n",
    "elif(age>59):\n",
    "    print(\"Senior Citizen\")\n",
    "    "
   ]
  },
  {
   "cell_type": "code",
   "execution_count": 15,
   "metadata": {},
   "outputs": [
    {
     "name": "stdout",
     "output_type": "stream",
     "text": [
      " 1 3 5 "
     ]
    }
   ],
   "source": [
    "fish_list=[1,2,3,4,5,6]\n",
    "fish_gen=(fish for fish in fish_list if fish % 2 != 0)\n",
    "\n",
    "print(end = ' ')\n",
    "for fish1 in fish_gen:\n",
    "    print(fish1, end = ' ')"
   ]
  },
  {
   "cell_type": "code",
   "execution_count": 3,
   "metadata": {},
   "outputs": [
    {
     "name": "stdout",
     "output_type": "stream",
     "text": [
      "The value is 24\n",
      "The value is 25\n",
      "The value is 56\n",
      "The value is 45\n",
      "The value is 34\n"
     ]
    }
   ],
   "source": [
    "lists=[24,25,56,45,34]\n",
    "for temp in lists:\n",
    "    print(\"The value is\", temp)"
   ]
  },
  {
   "cell_type": "code",
   "execution_count": null,
   "metadata": {},
   "outputs": [],
   "source": []
  }
 ],
 "metadata": {
  "kernelspec": {
   "display_name": "Python 3",
   "language": "python",
   "name": "python3"
  },
  "language_info": {
   "codemirror_mode": {
    "name": "ipython",
    "version": 3
   },
   "file_extension": ".py",
   "mimetype": "text/x-python",
   "name": "python",
   "nbconvert_exporter": "python",
   "pygments_lexer": "ipython3",
   "version": "3.7.4"
  }
 },
 "nbformat": 4,
 "nbformat_minor": 2
}
